{
 "cells": [
  {
   "cell_type": "code",
   "execution_count": 1,
   "id": "dc197041-60e9-4bb0-822f-4d393c94a592",
   "metadata": {},
   "outputs": [
    {
     "ename": "ModuleNotFoundError",
     "evalue": "No module named 'juypter_bokeh'",
     "output_type": "error",
     "traceback": [
      "\u001b[0;31m---------------------------------------------------------------------------\u001b[0m",
      "\u001b[0;31mModuleNotFoundError\u001b[0m                       Traceback (most recent call last)",
      "Cell \u001b[0;32mIn[1], line 2\u001b[0m\n\u001b[1;32m      1\u001b[0m \u001b[38;5;28;01mimport\u001b[39;00m \u001b[38;5;21;01mbokeh\u001b[39;00m\n\u001b[0;32m----> 2\u001b[0m \u001b[38;5;28;01mfrom\u001b[39;00m \u001b[38;5;21;01mjuypter_bokeh\u001b[39;00m \u001b[38;5;28;01mimport\u001b[39;00m BokehModel\n\u001b[1;32m      3\u001b[0m \u001b[38;5;28;01mfrom\u001b[39;00m \u001b[38;5;21;01mbokeh\u001b[39;00m\u001b[38;5;21;01m.\u001b[39;00m\u001b[38;5;21;01mio\u001b[39;00m \u001b[38;5;28;01mimport\u001b[39;00m output_notebook, show\n\u001b[1;32m      4\u001b[0m \u001b[38;5;28;01mfrom\u001b[39;00m \u001b[38;5;21;01mbokeh\u001b[39;00m\u001b[38;5;21;01m.\u001b[39;00m\u001b[38;5;21;01mmodels\u001b[39;00m \u001b[38;5;28;01mimport\u001b[39;00m Plot, Scatter\n",
      "\u001b[0;31mModuleNotFoundError\u001b[0m: No module named 'juypter_bokeh'"
     ]
    }
   ],
   "source": [
    "import bokeh\n",
    "from juypter_bokeh import BokehModel\n",
    "from bokeh.io import output_notebook, show\n",
    "from bokeh.models import Plot, Scatter\n",
    "from bokeh.transform import linear_cmap, log_cmap, factor_cmap\n",
    "\n",
    "import vaex as vx\n",
    "\n",
    "df = vx.example()[:20_000]\n",
    "    \n",
    "\n",
    "p = Plot(width_policy=\"max\", height=700)\n",
    "\n",
    "      \n"
   ]
  },
  {
   "cell_type": "code",
   "execution_count": null,
   "id": "b87cfee2-5db2-40f1-9744-799b4a1349aa",
   "metadata": {},
   "outputs": [],
   "source": []
  }
 ],
 "metadata": {
  "kernelspec": {
   "display_name": "Python 3 (ipykernel)",
   "language": "python",
   "name": "python3"
  },
  "language_info": {
   "codemirror_mode": {
    "name": "ipython",
    "version": 3
   },
   "file_extension": ".py",
   "mimetype": "text/x-python",
   "name": "python",
   "nbconvert_exporter": "python",
   "pygments_lexer": "ipython3",
   "version": "3.10.15"
  }
 },
 "nbformat": 4,
 "nbformat_minor": 5
}
