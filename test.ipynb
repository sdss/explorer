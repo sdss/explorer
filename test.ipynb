{
 "cells": [
  {
   "cell_type": "code",
   "execution_count": null,
   "metadata": {
    "jukit_cell_id": "NONE"
   },
   "outputs": [],
   "source": [
    "import pandas as pd\n",
    "import vaex as vx\n",
    "import plotly.express as px\n",
    "\n",
    "df_sample = vx.open(\n",
    "    \"/home/riley/uni/rproj/data/allApogeeNetStar-0.4.0.parquet\")\n",
    "\n",
    "x = df_sample['TEFF'].values\n",
    "y = df_sample['LOGG'].values\n",
    "c = df_sample['FE_H'].values\n",
    "\n",
    "px.scatter(x=x,y=y,color=c)"
   ]
  },
  {
   "cell_type": "code",
   "execution_count": null,
   "metadata": {},
   "outputs": [],
   "source": []
  }
 ],
 "metadata": {
  "anaconda-cloud": {},
  "kernelspec": {
   "display_name": "Python 3 (ipykernel)",
   "language": "python",
   "name": "python3"
  },
  "language_info": {
   "codemirror_mode": {
    "name": "ipython",
    "version": 3
   },
   "file_extension": ".py",
   "mimetype": "text/x-python",
   "name": "python",
   "nbconvert_exporter": "python",
   "pygments_lexer": "ipython3",
   "version": "3.10.12"
  }
 },
 "nbformat": 4,
 "nbformat_minor": 4
}
