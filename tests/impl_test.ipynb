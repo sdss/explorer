{
 "cells": [
  {
   "cell_type": "markdown",
   "metadata": {
    "jukit_cell_id": "9aEgDHplIU"
   },
   "source": [
    "# Specutils implementation test notebook\n",
    "### Riley Thai"
   ]
  },
  {
   "cell_type": "code",
   "execution_count": 1,
   "metadata": {
    "jukit_cell_id": "q1E77jiDZi"
   },
   "outputs": [],
   "source": [
    "from specutils import Spectrum1D, SpectrumList\n",
    "from jdaviz import Specviz\n",
    "\n",
    "# change directory to your data directory\n",
    "dir = \"/home/riley/uni/rproj/data/\""
   ]
  },
  {
   "cell_type": "markdown",
   "metadata": {
    "jukit_cell_id": "qUw0OFqWcl"
   },
   "source": [
    "## Spectrum1D loaders"
   ]
  },
  {
   "cell_type": "code",
   "execution_count": 4,
   "metadata": {
    "jukit_cell_id": "vbpxGYnPFF"
   },
   "outputs": [
    {
     "name": "stderr",
     "output_type": "stream",
     "text": [
      "WARNING: UnitsWarning: The unit 'Angstrom' has been deprecated in the VOUnit standard. Suggested: 0.1nm. [astropy.units.format.utils]\n",
      "WARNING:astropy:UnitsWarning: The unit 'Angstrom' has been deprecated in the VOUnit standard. Suggested: 0.1nm.\n",
      "WARNING: UnitsWarning: The unit 'Angstrom' has been deprecated in the VOUnit standard. Suggested: 0.1nm. [astropy.units.format.utils]\n",
      "WARNING:astropy:UnitsWarning: The unit 'Angstrom' has been deprecated in the VOUnit standard. Suggested: 0.1nm.\n",
      "WARNING: UnitsWarning: The unit 'Angstrom' has been deprecated in the VOUnit standard. Suggested: 0.1nm. [astropy.units.format.utils]\n",
      "WARNING:astropy:UnitsWarning: The unit 'Angstrom' has been deprecated in the VOUnit standard. Suggested: 0.1nm.\n"
     ]
    },
    {
     "data": {
      "application/vnd.jupyter.widget-view+json": {
       "model_id": "d6fc66c5e48d4eaab50c12cb9634f350",
       "version_major": 2,
       "version_minor": 0
      },
      "text/plain": [
       "Application(config='specviz', docs_link='https://jdaviz.readthedocs.io/en/latest/specviz/index.html', events=[…"
      ]
     },
     "metadata": {},
     "output_type": "display_data"
    }
   ],
   "source": [
    "specviz = Specviz()\n",
    "names = [\n",
    "    \"mwmVisit\", \"mwmStar\", \"apVisit\", \"apStar\", \"spec1\", \"spec2\",\n",
    "    \"custom coadd\"\n",
    "]\n",
    "specs_1D = list()\n",
    "specs_1D.append(Spectrum1D.read(f\"{dir}mwmVisit-0.5.0-70350000.fits\", hdu=3))\n",
    "specs_1D.append(Spectrum1D.read(f\"{dir}mwmStar-0.5.0-103020000.fits\", hdu=4))\n",
    "specs_1D.append(\n",
    "    Spectrum1D.read(f\"{dir}apStar-1.2-apo25m-2M05560393-0133549.fits\"))\n",
    "specs_1D.append(\n",
    "    Spectrum1D.read(f\"{dir}apVisit-1.2-apo25m-3786-59637-275.fits\"))\n",
    "specs_1D.append(\n",
    "    Spectrum1D.read(f\"{dir}spec-015252-59278-4593082715.fits\", hdu=1))\n",
    "specs_1D.append(\n",
    "    Spectrum1D.read(f\"{dir}spec-112359-60118-7612895412.fits\", hdu=1))\n",
    "specs_1D.append(\n",
    "    Spectrum1D.read(f\"{dir}spec-allepoch-60130-27021597775058535.fits\", hdu=1))\n",
    "\n",
    "specviz.load_data(specs_1D[5])\n",
    "\n",
    "\n",
    "specviz.show()"
   ]
  },
  {
   "cell_type": "markdown",
   "metadata": {
    "jukit_cell_id": "Zccee01Dam"
   },
   "source": [
    "## SpectrumList loaders"
   ]
  },
  {
   "cell_type": "code",
   "execution_count": null,
   "metadata": {
    "jukit_cell_id": "xXJL3a0cig",
    "scrolled": true
   },
   "outputs": [],
   "source": [
    "specs_multi = list()\n",
    "specviz_multi = Specviz()\n",
    "specs_multi.append(\n",
    "    SpectrumList.read(f\"{dir}mwmVisit-0.5.0-70350000.fits\",\n",
    "                      format=\"SDSS-V mwm multi\"))\n",
    "specs_multi.append(\n",
    "    SpectrumList.read(f\"{dir}mwmStar-0.5.0-103020000.fits\",\n",
    "                      format=\"SDSS-V mwm multi\"))\n",
    "specs_multi.append(\n",
    "    SpectrumList.read(f\"{dir}apVisit-1.2-apo25m-3786-59637-275.fits\",\n",
    "                      format=\"SDSS-V apVisit multi\"))\n",
    "# apStar multi not implemented yet\n",
    "specs_multi.append(\n",
    "    SpectrumList.read(f\"{dir}spec-015252-59278-4593082715.fits\",\n",
    "                      format=\"SDSS-V spec multi\"))\n",
    "\n",
    "specs_multi.append(\n",
    "    SpectrumList.read(f\"{dir}spec-112359-60118-7612895412.fits\",\n",
    "                      format=\"SDSS-V spec multi\"))\n",
    "\n",
    "specs_multi.append(\n",
    "    SpectrumList.read(f\"{dir}spec-allepoch-60130-27021597775058535.fits\",\n",
    "                      format=\"SDSS-V spec multi\"))\n",
    "\n",
    "names.remove(\"apStar\")\n",
    "for i in range(6):\n",
    "    specviz_multi.load_data(specs_1D[i], data_label=names[i])\n",
    "\n",
    "specviz_multi.show()"
   ]
  },
  {
   "cell_type": "markdown",
   "metadata": {},
   "source": [
    "Feel free to raise an issue in the repo if something doesn't work as you'd expect, or you'd like more metadata in the Spectrum object(s) anywhere!"
   ]
  }
 ],
 "metadata": {
  "anaconda-cloud": {},
  "kernelspec": {
   "display_name": "Python 3 (ipykernel)",
   "language": "python",
   "name": "python3"
  },
  "language_info": {
   "codemirror_mode": {
    "name": "ipython",
    "version": 3
   },
   "file_extension": ".py",
   "mimetype": "text/x-python",
   "name": "python",
   "nbconvert_exporter": "python",
   "pygments_lexer": "ipython3",
   "version": "3.11.3"
  }
 },
 "nbformat": 4,
 "nbformat_minor": 4
}
