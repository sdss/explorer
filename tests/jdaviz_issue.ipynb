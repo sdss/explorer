{
 "cells": [
  {
   "cell_type": "code",
   "execution_count": 22,
   "metadata": {
    "jukit_cell_id": "NONE"
   },
   "outputs": [
    {
     "name": "stderr",
     "output_type": "stream",
     "text": [
      "WARNING: UnitsWarning: The unit 'Angstrom' has been deprecated in the VOUnit standard. Suggested: 0.1nm. [astropy.units.format.utils]\n",
      "WARNING:astropy:UnitsWarning: The unit 'Angstrom' has been deprecated in the VOUnit standard. Suggested: 0.1nm.\n"
     ]
    },
    {
     "name": "stdout",
     "output_type": "stream",
     "text": [
      "Spectrum1D (length=4300)\n",
      "flux 0:           [ 3.2192 erg / (Angstrom s cm2), ..., 2.1179 erg / (Angstrom s cm2) ],  mean=2.9998 erg / (Angstrom s cm2)\n",
      "flux 1:           [ 3.2192 erg / (Angstrom s cm2), ..., 2.1179 erg / (Angstrom s cm2) ],  mean=2.9998 erg / (Angstrom s cm2)\n",
      "spectral axis:    [ 3000.0 Angstrom, ..., 7299.0 Angstrom ],  mean=5149.5 Angstrom\n"
     ]
    },
    {
     "name": "stderr",
     "output_type": "stream",
     "text": [
      "WARNING: UnitsWarning: The unit 'Angstrom' has been deprecated in the VOUnit standard. Suggested: 0.1nm. [astropy.units.format.utils]\n",
      "WARNING:astropy:UnitsWarning: The unit 'Angstrom' has been deprecated in the VOUnit standard. Suggested: 0.1nm.\n",
      "WARNING: UnitsWarning: The unit 'Angstrom' has been deprecated in the VOUnit standard. Suggested: 0.1nm. [astropy.units.format.utils]\n",
      "WARNING:astropy:UnitsWarning: The unit 'Angstrom' has been deprecated in the VOUnit standard. Suggested: 0.1nm.\n"
     ]
    },
    {
     "data": {
      "application/vnd.jupyter.widget-view+json": {
       "model_id": "899bd287baa144769b6c19d39a454cb1",
       "version_major": 2,
       "version_minor": 0
      },
      "text/plain": [
       "Application(config='specviz', docs_link='https://jdaviz.readthedocs.io/en/latest/specviz/index.html', events=[…"
      ]
     },
     "metadata": {},
     "output_type": "display_data"
    },
    {
     "ename": "AttributeError",
     "evalue": "'NDData' object has no attribute 'spectral_axis'",
     "output_type": "error",
     "traceback": [
      "\u001b[0;31m---------------------------------------------------------------------------\u001b[0m",
      "\u001b[0;31mAttributeError\u001b[0m                            Traceback (most recent call last)",
      "Cell \u001b[0;32mIn[22], line 30\u001b[0m\n\u001b[1;32m     26\u001b[0m specviz\u001b[38;5;241m.\u001b[39mload_data(spectrum_n)\n\u001b[1;32m     28\u001b[0m specviz\u001b[38;5;241m.\u001b[39mshow()\n\u001b[0;32m---> 30\u001b[0m \u001b[43mspecviz\u001b[49m\u001b[38;5;241;43m.\u001b[39;49m\u001b[43mload_data\u001b[49m\u001b[43m(\u001b[49m\u001b[43mspectrum_2byn\u001b[49m\u001b[43m)\u001b[49m\n\u001b[1;32m     31\u001b[0m \u001b[38;5;66;03m# loads fine...\u001b[39;00m\n\u001b[1;32m     33\u001b[0m specviz\u001b[38;5;241m.\u001b[39mshow()\n",
      "File \u001b[0;32m~/rproj/specutils/specutils/venv/lib/python3.11/site-packages/jdaviz/configs/specviz/helper.py:89\u001b[0m, in \u001b[0;36mSpecviz.load_data\u001b[0;34m(self, data, data_label, format, show_in_viewer, concat_by_file)\u001b[0m\n\u001b[1;32m     68\u001b[0m \u001b[38;5;28;01mdef\u001b[39;00m \u001b[38;5;21mload_data\u001b[39m(\u001b[38;5;28mself\u001b[39m, data, data_label\u001b[38;5;241m=\u001b[39m\u001b[38;5;28;01mNone\u001b[39;00m, \u001b[38;5;28mformat\u001b[39m\u001b[38;5;241m=\u001b[39m\u001b[38;5;28;01mNone\u001b[39;00m, show_in_viewer\u001b[38;5;241m=\u001b[39m\u001b[38;5;28;01mTrue\u001b[39;00m,\n\u001b[1;32m     69\u001b[0m               concat_by_file\u001b[38;5;241m=\u001b[39m\u001b[38;5;28;01mFalse\u001b[39;00m):\n\u001b[1;32m     70\u001b[0m \u001b[38;5;250m    \u001b[39m\u001b[38;5;124;03m\"\"\"\u001b[39;00m\n\u001b[1;32m     71\u001b[0m \u001b[38;5;124;03m    Load data into Specviz.\u001b[39;00m\n\u001b[1;32m     72\u001b[0m \n\u001b[0;32m   (...)\u001b[0m\n\u001b[1;32m     87\u001b[0m \u001b[38;5;124;03m        add a concatenated spectrum to the data collection.\u001b[39;00m\n\u001b[1;32m     88\u001b[0m \u001b[38;5;124;03m    \"\"\"\u001b[39;00m\n\u001b[0;32m---> 89\u001b[0m     \u001b[38;5;28;43msuper\u001b[39;49m\u001b[43m(\u001b[49m\u001b[43m)\u001b[49m\u001b[38;5;241;43m.\u001b[39;49m\u001b[43mload_data\u001b[49m\u001b[43m(\u001b[49m\u001b[43mdata\u001b[49m\u001b[43m,\u001b[49m\n\u001b[1;32m     90\u001b[0m \u001b[43m                      \u001b[49m\u001b[43mparser_reference\u001b[49m\u001b[38;5;241;43m=\u001b[39;49m\u001b[38;5;124;43m'\u001b[39;49m\u001b[38;5;124;43mspecviz-spectrum1d-parser\u001b[39;49m\u001b[38;5;124;43m'\u001b[39;49m\u001b[43m,\u001b[49m\n\u001b[1;32m     91\u001b[0m \u001b[43m                      \u001b[49m\u001b[43mdata_label\u001b[49m\u001b[38;5;241;43m=\u001b[39;49m\u001b[43mdata_label\u001b[49m\u001b[43m,\u001b[49m\n\u001b[1;32m     92\u001b[0m \u001b[43m                      \u001b[49m\u001b[38;5;28;43mformat\u001b[39;49m\u001b[38;5;241;43m=\u001b[39;49m\u001b[38;5;28;43mformat\u001b[39;49m\u001b[43m,\u001b[49m\n\u001b[1;32m     93\u001b[0m \u001b[43m                      \u001b[49m\u001b[43mshow_in_viewer\u001b[49m\u001b[38;5;241;43m=\u001b[39;49m\u001b[43mshow_in_viewer\u001b[49m\u001b[43m,\u001b[49m\n\u001b[1;32m     94\u001b[0m \u001b[43m                      \u001b[49m\u001b[43mconcat_by_file\u001b[49m\u001b[38;5;241;43m=\u001b[39;49m\u001b[43mconcat_by_file\u001b[49m\u001b[43m)\u001b[49m\n",
      "File \u001b[0;32m~/rproj/specutils/specutils/venv/lib/python3.11/site-packages/jdaviz/core/helpers.py:110\u001b[0m, in \u001b[0;36mConfigHelper.load_data\u001b[0;34m(self, data, data_label, parser_reference, **kwargs)\u001b[0m\n\u001b[1;32m    108\u001b[0m \u001b[38;5;28;01mif\u001b[39;00m data_label:\n\u001b[1;32m    109\u001b[0m     kwargs[\u001b[38;5;124m'\u001b[39m\u001b[38;5;124mdata_label\u001b[39m\u001b[38;5;124m'\u001b[39m] \u001b[38;5;241m=\u001b[39m data_label\n\u001b[0;32m--> 110\u001b[0m \u001b[38;5;28;43mself\u001b[39;49m\u001b[38;5;241;43m.\u001b[39;49m\u001b[43mapp\u001b[49m\u001b[38;5;241;43m.\u001b[39;49m\u001b[43mload_data\u001b[49m\u001b[43m(\u001b[49m\u001b[43mdata\u001b[49m\u001b[43m,\u001b[49m\u001b[43m \u001b[49m\u001b[43mparser_reference\u001b[49m\u001b[38;5;241;43m=\u001b[39;49m\u001b[43mparser_reference\u001b[49m\u001b[43m,\u001b[49m\u001b[43m \u001b[49m\u001b[38;5;241;43m*\u001b[39;49m\u001b[38;5;241;43m*\u001b[39;49m\u001b[43mkwargs\u001b[49m\u001b[43m)\u001b[49m\n",
      "File \u001b[0;32m~/rproj/specutils/specutils/venv/lib/python3.11/site-packages/jdaviz/app.py:638\u001b[0m, in \u001b[0;36mApplication.load_data\u001b[0;34m(self, file_obj, parser_reference, **kwargs)\u001b[0m\n\u001b[1;32m    635\u001b[0m         parser \u001b[38;5;241m=\u001b[39m data_parser_registry\u001b[38;5;241m.\u001b[39mmembers\u001b[38;5;241m.\u001b[39mget(data_parser)\n\u001b[1;32m    637\u001b[0m \u001b[38;5;28;01mif\u001b[39;00m parser \u001b[38;5;129;01mis\u001b[39;00m \u001b[38;5;129;01mnot\u001b[39;00m \u001b[38;5;28;01mNone\u001b[39;00m:\n\u001b[0;32m--> 638\u001b[0m     \u001b[43mparser\u001b[49m\u001b[43m(\u001b[49m\u001b[38;5;28;43mself\u001b[39;49m\u001b[43m,\u001b[49m\u001b[43m \u001b[49m\u001b[43mfile_obj\u001b[49m\u001b[43m,\u001b[49m\u001b[43m \u001b[49m\u001b[38;5;241;43m*\u001b[39;49m\u001b[38;5;241;43m*\u001b[39;49m\u001b[43mkwargs\u001b[49m\u001b[43m)\u001b[49m\n\u001b[1;32m    639\u001b[0m \u001b[38;5;28;01melse\u001b[39;00m:\n\u001b[1;32m    640\u001b[0m     \u001b[38;5;28mself\u001b[39m\u001b[38;5;241m.\u001b[39m_application_handler\u001b[38;5;241m.\u001b[39mload_data(file_obj)\n",
      "File \u001b[0;32m~/rproj/specutils/specutils/venv/lib/python3.11/site-packages/jdaviz/configs/specviz/plugins/parsers.py:144\u001b[0m, in \u001b[0;36mspecviz_spectrum1d_parser\u001b[0;34m(app, data, data_label, format, show_in_viewer, concat_by_file)\u001b[0m\n\u001b[1;32m    142\u001b[0m     \u001b[38;5;66;03m# handle display, with the SpectrumList special case in mind.\u001b[39;00m\n\u001b[1;32m    143\u001b[0m     \u001b[38;5;28;01mif\u001b[39;00m i \u001b[38;5;241m==\u001b[39m \u001b[38;5;241m0\u001b[39m \u001b[38;5;129;01mand\u001b[39;00m show_in_viewer:\n\u001b[0;32m--> 144\u001b[0m         \u001b[43mapp\u001b[49m\u001b[38;5;241;43m.\u001b[39;49m\u001b[43madd_data_to_viewer\u001b[49m\u001b[43m(\u001b[49m\u001b[43mspectrum_viewer_reference_name\u001b[49m\u001b[43m,\u001b[49m\u001b[43m \u001b[49m\u001b[43mdata_label\u001b[49m\u001b[43m[\u001b[49m\u001b[43mi\u001b[49m\u001b[43m]\u001b[49m\u001b[43m)\u001b[49m\n\u001b[1;32m    146\u001b[0m \u001b[38;5;28;01mif\u001b[39;00m concat_by_file \u001b[38;5;129;01mand\u001b[39;00m \u001b[38;5;28misinstance\u001b[39m(data, SpectrumList):\n\u001b[1;32m    147\u001b[0m     \u001b[38;5;66;03m# If >1 spectra in the list were opened from the same FITS file,\u001b[39;00m\n\u001b[1;32m    148\u001b[0m     \u001b[38;5;66;03m# group them by their original FITS filenames and add their combined\u001b[39;00m\n\u001b[1;32m    149\u001b[0m     \u001b[38;5;66;03m# 1D spectrum to the DataCollection.\u001b[39;00m\n\u001b[1;32m    150\u001b[0m     unique_files \u001b[38;5;241m=\u001b[39m group_spectra_by_filename(app\u001b[38;5;241m.\u001b[39mdata_collection)\n",
      "File \u001b[0;32m~/rproj/specutils/specutils/venv/lib/python3.11/site-packages/jdaviz/app.py:1576\u001b[0m, in \u001b[0;36mApplication.add_data_to_viewer\u001b[0;34m(self, viewer_reference, data_label, visible, clear_other_data)\u001b[0m\n\u001b[1;32m   1573\u001b[0m \u001b[38;5;28;01mif\u001b[39;00m viewer_item \u001b[38;5;129;01mis\u001b[39;00m \u001b[38;5;28;01mNone\u001b[39;00m:\n\u001b[1;32m   1574\u001b[0m     \u001b[38;5;28;01mraise\u001b[39;00m \u001b[38;5;167;01mValueError\u001b[39;00m(\u001b[38;5;124mf\u001b[39m\u001b[38;5;124m\"\u001b[39m\u001b[38;5;124mCould not identify viewer with reference \u001b[39m\u001b[38;5;132;01m{\u001b[39;00mviewer_reference\u001b[38;5;132;01m}\u001b[39;00m\u001b[38;5;124m\"\u001b[39m)\n\u001b[0;32m-> 1576\u001b[0m \u001b[38;5;28;43mself\u001b[39;49m\u001b[38;5;241;43m.\u001b[39;49m\u001b[43mset_data_visibility\u001b[49m\u001b[43m(\u001b[49m\u001b[43mviewer_item\u001b[49m\u001b[43m,\u001b[49m\u001b[43m \u001b[49m\u001b[43mdata_label\u001b[49m\u001b[43m,\u001b[49m\u001b[43m \u001b[49m\u001b[43mvisible\u001b[49m\u001b[38;5;241;43m=\u001b[39;49m\u001b[43mvisible\u001b[49m\u001b[43m,\u001b[49m\u001b[43m \u001b[49m\u001b[43mreplace\u001b[49m\u001b[38;5;241;43m=\u001b[39;49m\u001b[43mclear_other_data\u001b[49m\u001b[43m)\u001b[49m\n",
      "File \u001b[0;32m~/rproj/specutils/specutils/venv/lib/python3.11/site-packages/jdaviz/app.py:2084\u001b[0m, in \u001b[0;36mApplication.set_data_visibility\u001b[0;34m(self, viewer_reference, data_label, visible, replace)\u001b[0m\n\u001b[1;32m   2079\u001b[0m     viewer\u001b[38;5;241m.\u001b[39mset_plot_axes()\n\u001b[1;32m   2081\u001b[0m     add_data_message \u001b[38;5;241m=\u001b[39m AddDataMessage(data, viewer,\n\u001b[1;32m   2082\u001b[0m                                       viewer_id\u001b[38;5;241m=\u001b[39mviewer_id,\n\u001b[1;32m   2083\u001b[0m                                       sender\u001b[38;5;241m=\u001b[39m\u001b[38;5;28mself\u001b[39m)\n\u001b[0;32m-> 2084\u001b[0m     \u001b[38;5;28;43mself\u001b[39;49m\u001b[38;5;241;43m.\u001b[39;49m\u001b[43mhub\u001b[49m\u001b[38;5;241;43m.\u001b[39;49m\u001b[43mbroadcast\u001b[49m\u001b[43m(\u001b[49m\u001b[43madd_data_message\u001b[49m\u001b[43m)\u001b[49m\n\u001b[1;32m   2086\u001b[0m \u001b[38;5;66;03m# set visibility state of all applicable layers\u001b[39;00m\n\u001b[1;32m   2087\u001b[0m \u001b[38;5;28;01mfor\u001b[39;00m layer \u001b[38;5;129;01min\u001b[39;00m viewer\u001b[38;5;241m.\u001b[39mlayers:\n",
      "File \u001b[0;32m~/rproj/specutils/specutils/venv/lib/python3.11/site-packages/glue/core/hub.py:215\u001b[0m, in \u001b[0;36mHub.broadcast\u001b[0;34m(self, message)\u001b[0m\n\u001b[1;32m    213\u001b[0m logging\u001b[38;5;241m.\u001b[39mgetLogger(\u001b[38;5;18m__name__\u001b[39m)\u001b[38;5;241m.\u001b[39minfo(\u001b[38;5;124m\"\u001b[39m\u001b[38;5;124mBroadcasting \u001b[39m\u001b[38;5;132;01m%s\u001b[39;00m\u001b[38;5;124m\"\u001b[39m, message)\n\u001b[1;32m    214\u001b[0m \u001b[38;5;28;01mfor\u001b[39;00m subscriber, handler \u001b[38;5;129;01min\u001b[39;00m \u001b[38;5;28mself\u001b[39m\u001b[38;5;241m.\u001b[39m_find_handlers(message):\n\u001b[0;32m--> 215\u001b[0m     \u001b[43mhandler\u001b[49m\u001b[43m(\u001b[49m\u001b[43mmessage\u001b[49m\u001b[43m)\u001b[49m\n",
      "File \u001b[0;32m~/rproj/specutils/specutils/venv/lib/python3.11/site-packages/jdaviz/configs/default/plugins/line_lists/line_lists.py:189\u001b[0m, in \u001b[0;36mLineListTool._on_viewer_data_changed\u001b[0;34m(self, msg)\u001b[0m\n\u001b[1;32m    186\u001b[0m \u001b[38;5;28;01mif\u001b[39;00m viewer_data \u001b[38;5;129;01mis\u001b[39;00m \u001b[38;5;28;01mNone\u001b[39;00m:\n\u001b[1;32m    187\u001b[0m     \u001b[38;5;28;01mreturn\u001b[39;00m\n\u001b[0;32m--> 189\u001b[0m \u001b[38;5;28;01mif\u001b[39;00m \u001b[43mviewer_data\u001b[49m\u001b[38;5;241;43m.\u001b[39;49m\u001b[43mspectral_axis\u001b[49m\u001b[38;5;241m.\u001b[39munit \u001b[38;5;241m==\u001b[39m u\u001b[38;5;241m.\u001b[39mpix:\n\u001b[1;32m    190\u001b[0m     \u001b[38;5;66;03m# disable the plugin until we can address this properly (either using the wavelength\u001b[39;00m\n\u001b[1;32m    191\u001b[0m     \u001b[38;5;66;03m# solution to support pixels in line-lists, or properly displaying the extracted\u001b[39;00m\n\u001b[1;32m    192\u001b[0m     \u001b[38;5;66;03m# 1d spectrum in wavelength-space)\u001b[39;00m\n\u001b[1;32m    193\u001b[0m     \u001b[38;5;28mself\u001b[39m\u001b[38;5;241m.\u001b[39mdisabled_msg \u001b[38;5;241m=\u001b[39m \u001b[38;5;124m'\u001b[39m\u001b[38;5;124mLine Lists unavailable when x-axis is in pixels\u001b[39m\u001b[38;5;124m'\u001b[39m\n\u001b[1;32m    194\u001b[0m \u001b[38;5;28;01melse\u001b[39;00m:\n",
      "\u001b[0;31mAttributeError\u001b[0m: 'NDData' object has no attribute 'spectral_axis'"
     ]
    }
   ],
   "source": [
    "from specutils import Spectrum1D\n",
    "from jdaviz import Specviz\n",
    "from astropy.units import Quantity, Unit, Angstrom\n",
    "import numpy as np\n",
    "\n",
    "# Initialize spectral axis and flux unit\n",
    "arr = np.arange(3000,7300,1)\n",
    "spectral_axis = Quantity(arr, unit=Angstrom)\n",
    "flux_unit = Unit(\"erg/(s cm2 Angstrom)\")\n",
    "\n",
    "# Two flux arrays of different shape\n",
    "flux_2byn = Quantity([np.sin(arr)+3, np.sin(arr)+3], unit=flux_unit) # flux.shape = (2, length)\n",
    "flux_1byn = Quantity([np.sin(arr)], unit=flux_unit)                  # flux.shape = (1,length)\n",
    "flux_n = Quantity(np.sin(arr), unit=flux_unit)                       # flux.shape = (length,)\n",
    "\n",
    "# Spectrum1D objects\n",
    "spectrum_2byn = Spectrum1D(spectral_axis=spectral_axis, flux=flux_2byn)\n",
    "spectrum_1byn = Spectrum1D(spectral_axis=spectral_axis, flux=flux_1byn)\n",
    "spectrum_n = Spectrum1D(spectral_axis=spectral_axis, flux=flux_n)\n",
    "\n",
    "print(spectrum_2byn)\n",
    "\n",
    "# Init specviz, will also fail on non-2d specviz\n",
    "specviz = Specviz()\n",
    "\n",
    "specviz.load_data(spectrum_n)\n",
    "\n",
    "specviz.show()\n",
    "\n",
    "specviz.load_data(spectrum_2byn)\n",
    "# loads fine...\n",
    "\n",
    "specviz.show()"
   ]
  },
  {
   "cell_type": "code",
   "execution_count": null,
   "metadata": {},
   "outputs": [],
   "source": []
  },
  {
   "cell_type": "code",
   "execution_count": null,
   "metadata": {},
   "outputs": [],
   "source": []
  }
 ],
 "metadata": {
  "anaconda-cloud": {},
  "kernelspec": {
   "display_name": "Python 3 (ipykernel)",
   "language": "python",
   "name": "python3"
  },
  "language_info": {
   "codemirror_mode": {
    "name": "ipython",
    "version": 3
   },
   "file_extension": ".py",
   "mimetype": "text/x-python",
   "name": "python",
   "nbconvert_exporter": "python",
   "pygments_lexer": "ipython3",
   "version": "3.11.3"
  }
 },
 "nbformat": 4,
 "nbformat_minor": 4
}
